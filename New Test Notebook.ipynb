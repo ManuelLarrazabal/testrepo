{
    "cells": [
        {
            "cell_type": "markdown",
            "metadata": {},
            "source": "# Description del codigo"
        },
        {
            "cell_type": "code",
            "execution_count": 1,
            "metadata": {},
            "outputs": [
                {
                    "name": "stdout",
                    "output_type": "stream",
                    "text": "+--------------------+---------------+----------------+-------------+-------+--------+\n|               Email|     First Name|       Last Name| Phone Number|Country|Zip Code|\n+--------------------+---------------+----------------+-------------+-------+--------+\n|kornelioreyna@gma...|    Oscar Jesus|   Valerio Gomez|+524492226729|     MX|   20286|\n|ml.vergararoman@g...|        Mariana|         Vergara|+525542227980|     MX|    3100|\n|washnwear69@hotma...|Mar\u00eda Antonieta|         Vuelvas|+526643851299|     MX|   22195|\n|marco.lmh@outlook...|         Marcos|S\u00e1nchez Mart\u00ednez|+525582826567|     MX|    7170|\n|evalunasc@hotmail...|            Eva|            Go\u00f1i|+525513973121|     MX|   54080|\n+--------------------+---------------+----------------+-------------+-------+--------+\nonly showing top 5 rows\n\n"
                },
                {
                    "data": {
                        "text/plain": "configurationName = os_29db8f3d3021455d858e78aba5e5e1ca_configs\ncos = com.ibm.ibmos2spark.CloudObjectStorage@f243778d\nspark = org.apache.spark.sql.SparkSession@d588f168\ndfData1 = [Email: string, First Name: string ... 4 more fields]\n"
                    },
                    "metadata": {},
                    "output_type": "display_data"
                },
                {
                    "data": {
                        "text/plain": "getCredentials: ()scala.collection.mutable.HashMap[String,String]\n"
                    },
                    "metadata": {},
                    "output_type": "display_data"
                },
                {
                    "data": {
                        "text/plain": "[Email: string, First Name: string ... 4 more fields]"
                    },
                    "execution_count": 1,
                    "metadata": {},
                    "output_type": "execute_result"
                }
            ],
            "source": "// The code was removed by Watson Studio for sharing."
        },
        {
            "cell_type": "code",
            "execution_count": null,
            "metadata": {},
            "outputs": [],
            "source": ""
        }
    ],
    "metadata": {
        "kernelspec": {
            "display_name": "Scala 2.12 with Spark",
            "language": "scala",
            "name": "scala"
        },
        "language_info": {
            "codemirror_mode": "text/x-scala",
            "file_extension": ".scala",
            "mimetype": "text/x-scala",
            "name": "scala",
            "pygments_lexer": "scala",
            "version": "2.12.12"
        }
    },
    "nbformat": 4,
    "nbformat_minor": 1
}